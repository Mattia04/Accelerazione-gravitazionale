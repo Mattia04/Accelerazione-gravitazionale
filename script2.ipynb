{
 "cells": [
  {
   "cell_type": "code",
   "execution_count": 1,
   "metadata": {},
   "outputs": [],
   "source": [
    "import pandas as pd\n",
    "import numpy as np\n",
    "import matplotlib.pyplot as plt"
   ]
  },
  {
   "cell_type": "code",
   "execution_count": 9,
   "metadata": {},
   "outputs": [
    {
     "name": "stdout",
     "output_type": "stream",
     "text": [
      "<class 'pandas.core.frame.DataFrame'>\n",
      "RangeIndex: 62 entries, 0 to 61\n",
      "Data columns (total 2 columns):\n",
      " #   Column             Non-Null Count  Dtype  \n",
      "---  ------             --------------  -----  \n",
      " 0   Time (s) Run #1    62 non-null     float64\n",
      " 1   Period (s) Run #1  62 non-null     float64\n",
      "dtypes: float64(2)\n",
      "memory usage: 1.1 KB\n",
      "[1.2392 1.2392 1.2392 1.2392 1.2393 1.2392 1.2392 1.2391 1.2391 1.2391\n",
      " 1.2391 1.2392 1.2391 1.239  1.239  1.2391 1.2392 1.2389 1.2391 1.239\n",
      " 1.239  1.239  1.2389 1.239  1.239  1.239  1.239  1.2388 1.2388 1.2387\n",
      " 1.2387 1.2389 1.2387 1.2389 1.2386 1.2387 1.2385 1.2386 1.2386 1.2386\n",
      " 1.2387 1.2385 1.2383 1.2384 1.2385 1.2384 1.2384 1.2385 1.2384 1.2381\n",
      " 1.2381 1.2383 1.2383 1.238  1.2384 1.2378 1.2381 1.2381 1.2381 1.238\n",
      " 1.2379 1.2378]\n"
     ]
    }
   ],
   "source": [
    "with open(\"data/misura fototraguardo lunghezza 1(min).csv\", \"r\") as file:\n",
    "    data = pd.read_csv(file, delimiter=\";\", decimal=\",\")\n",
    "\n",
    "periods = data.iloc[:, 1].to_numpy()\n",
    "print(periods)"
   ]
  }
 ],
 "metadata": {
  "kernelspec": {
   "display_name": "environment",
   "language": "python",
   "name": "python3"
  },
  "language_info": {
   "codemirror_mode": {
    "name": "ipython",
    "version": 3
   },
   "file_extension": ".py",
   "mimetype": "text/x-python",
   "name": "python",
   "nbconvert_exporter": "python",
   "pygments_lexer": "ipython3",
   "version": "3.12.2"
  }
 },
 "nbformat": 4,
 "nbformat_minor": 2
}
