{
 "cells": [
  {
   "cell_type": "markdown",
   "metadata": {},
   "source": [
    "# Calculating $g$\n",
    "\n",
    "This notebook was made to calculate the local gravitational acceleration $g [\\text{m/s}^2]$.\n",
    "\n",
    "The data used is stored in `/data`.\n",
    "\n",
    "The results are stored in `/images` and `/exports`.\n",
    "\n",
    "Part of the funcions used are stored in `/packages`.\n",
    "\n",
    "## Modello Fisico\n",
    "\n",
    "Vogliamo calcolare $g$ tramite un pendolo semplice (reale).\n",
    "\n",
    "Eq. differenziale del moto armonico:\n",
    "$$\\ddot{\\theta} + \\frac{g}{L} \\theta = 0$$\n",
    "Da cui troviamo:\n",
    "$$T = 2 \\pi \\sqrt{\\frac{L}{g}}$$\n",
    "Da tutto ciò ricaviamo:\n",
    "$$g = 4 \\pi^2 \\frac{L}{T^2}$$\n",
    "Deviazione standard su $g$:\n",
    "$$\\sigma_g = 4\\pi^2\\sqrt{\\left(\\frac{1}{T^2}\\right)^2_{\\langle T\\rangle}\\sigma_L^2 + \\left(\\frac{2L}{T^3}\\right)^2_{\\langle T\\rangle, \\langle L\\rangle}\\sigma_T^2}$$\n",
    "Tuttavia non siamo in un caso ideale, quindi dobbiamo considerare una correzione:\n",
    "$$T = 2 \\pi \\sqrt{\\frac{L}{g}} \\pm \\Delta_T$$\n",
    "Correzione dell'ampiezza:\n",
    "$$T = 2 \\pi \\sqrt{\\frac{L}{g}} \\left( 1 + \\frac{\\vartheta^2_\\text{max}}{16} \\right)$$\n",
    "Differenza dal periodo ideale:\n",
    "$$D_T= 2 \\pi \\sqrt{\\frac{L}{g}} \\left(\\frac{\\vartheta^2_\\text{max}}{16} \\right)$$\n",
    "Incertezza relativa su $g$:\n",
    "$$\\frac{\\sigma_g}{g} = \\sqrt{\\left(\\frac{\\sigma_L}{L}\\right)^2 + \\left(2\\frac{\\sigma_T}{T}\\right)^2}$$\n",
    "\n",
    "Correzione di $T$ a causa dell'attrito viscoso:\n",
    "$$T^2 \\approx T^2_0\\left(1 + \\frac{\\gamma^2}{4\\pi^2} \\right)$$\n",
    "??? Ricavare $\\gamma$ tramite il modello esponenziale:\n",
    "$$f(x) = a e^{bx} + c e^{dx}$$\n",
    "\n",
    "Correzione di $T$ a causa del momento d'inerzia:\n",
    "$$T = 2\\pi \\sqrt{\\frac{I}{mgL}} = 2\\pi \\sqrt{\\frac{mL^2 + I_{CM}}{mgL}} = T = 2 \\pi \\sqrt{\\frac{L}{g}} \\pm \\Delta_T$$\n",
    "Possiamo trovare che il momento d'inerzia non è sempre trascurabile (filo non considerato):\n",
    "$$\\frac{\\ell_{eq}}{L} = \\frac{\\frac{I}{mL}}{L} \\approx 1.001$$\n",
    "\n",
    "Da cui troviamo che:\n",
    "$$g = g_\\text{modello armonico} \\pm \\sigma_g + Dg_{\\vartheta_{max}} + Dg_\\text{attrito} + Dg_\\text{momento inerzia}$$"
   ]
  },
  {
   "cell_type": "markdown",
   "metadata": {},
   "source": [
    "## importing libraries"
   ]
  },
  {
   "cell_type": "code",
   "execution_count": 51,
   "metadata": {},
   "outputs": [],
   "source": [
    "import os\n",
    "from typing import Tuple\n",
    "\n",
    "import matplotlib.pyplot as plt\n",
    "import numpy as np\n",
    "import pandas as pd\n",
    "\n",
    "from packages.funcs import Statistics, Utils"
   ]
  },
  {
   "cell_type": "markdown",
   "metadata": {},
   "source": [
    "## Load data"
   ]
  },
  {
   "cell_type": "markdown",
   "metadata": {},
   "source": [
    "### Delete first oscillations\n",
    "\n",
    "Le oscillazioni iniziali sono affette da vibrazioni, bisogna quindi rimuoverle"
   ]
  },
  {
   "cell_type": "code",
   "execution_count": 52,
   "metadata": {},
   "outputs": [],
   "source": [
    "def read_csv(filename: str):\n",
    "    data = pd.read_csv(filename, sep=\";\").replace(\",\", \".\", regex=True).convert_dtypes()\n",
    "\n",
    "    # data.dropna(inplace=True)\n",
    "    # data.drop(index=data.index[0], axis=0, inplace=True)\n",
    "\n",
    "    return data\n",
    "\n",
    "\n",
    "def read_excel(filename: str):\n",
    "    data = pd.read_excel(\n",
    "        filename,\n",
    "        # sheet_name=\"\",\n",
    "    )\n",
    "    return data"
   ]
  },
  {
   "cell_type": "code",
   "execution_count": 53,
   "metadata": {},
   "outputs": [
    {
     "name": "stdout",
     "output_type": "stream",
     "text": [
      "\n",
      "key: example\n",
      "<class 'pandas.core.frame.DataFrame'>\n",
      "RangeIndex: 59 entries, 0 to 58\n",
      "Data columns (total 2 columns):\n",
      " #   Column   Non-Null Count  Dtype  \n",
      "---  ------   --------------  -----  \n",
      " 0   Index    59 non-null     int64  \n",
      " 1   Periods  59 non-null     float64\n",
      "dtypes: float64(1), int64(1)\n",
      "memory usage: 1.1 KB\n"
     ]
    }
   ],
   "source": [
    "datasets = dict()\n",
    "\n",
    "for root, dirs, files in os.walk(\"./data\"):\n",
    "    for file in files:\n",
    "        current_file_path = os.path.join(root, file)\n",
    "        if \"xlsx\" in file:\n",
    "            datasets[file.rstrip(\".xlsx\")] = read_excel(current_file_path)\n",
    "        elif \"csv\" in file:\n",
    "            datasets[file.rstrip(\".csv\")] = read_csv(current_file_path)\n",
    "else:\n",
    "    del root, dirs, file, files, current_file_path\n",
    "\n",
    "data_keys = datasets.keys()\n",
    "\n",
    "\n",
    "# this should be removed after checking that it works\n",
    "def show_info(dataset_key: str) -> None:\n",
    "    print(f\"\\nkey: {dataset_key}\")\n",
    "    datasets[dataset_key].info()\n",
    "\n",
    "\n",
    "# this should be removed after checking that it works\n",
    "Utils.iterate_func_through_keys(data_keys, show_info)"
   ]
  },
  {
   "cell_type": "markdown",
   "metadata": {},
   "source": [
    "### Show our data"
   ]
  },
  {
   "cell_type": "code",
   "execution_count": 54,
   "metadata": {},
   "outputs": [
    {
     "data": {
      "image/png": "[encoded data removed]",
      "text/plain": [
       "<Figure size 640x480 with 1 Axes>"
      ]
     },
     "metadata": {},
     "output_type": "display_data"
    }
   ],
   "source": [
    "def plot_raw_data(dataset_name: str) -> None:\n",
    "    plt.scatter(\n",
    "        datasets[dataset_name].iloc[:, 0],\n",
    "        datasets[dataset_name].iloc[:, 1],\n",
    "        c=\"b\",\n",
    "        marker=\".\",\n",
    "    )\n",
    "\n",
    "\n",
    "Utils.iterate_func_through_keys(data_keys, plot_raw_data)"
   ]
  },
  {
   "cell_type": "markdown",
   "metadata": {},
   "source": [
    "## Errors"
   ]
  },
  {
   "cell_type": "markdown",
   "metadata": {},
   "source": [
    "### nominal errors"
   ]
  },
  {
   "cell_type": "code",
   "execution_count": 55,
   "metadata": {},
   "outputs": [],
   "source": [
    "errori_nominali = {\n",
    "    \"metro\": 0.001,  # 1mm\n",
    "    \"calibro\": 0.00005,  # 0.05mm\n",
    "    \"bilancia\": 0.00001,  # 0.01g\n",
    "    \"cronometro\": 0.01,  # s\n",
    "    \"foto_traguardo\": 0.0001 * np.sqrt(2),  # s\n",
    "}"
   ]
  },
  {
   "cell_type": "markdown",
   "metadata": {},
   "source": [
    "### get the minimal error on periods "
   ]
  },
  {
   "cell_type": "code",
   "execution_count": 56,
   "metadata": {},
   "outputs": [],
   "source": [
    "Utils.iterate_func_through_keys(data_keys, Utils.calculate_min_std_dev)"
   ]
  },
  {
   "cell_type": "markdown",
   "metadata": {},
   "source": [
    "## Statistical analysis"
   ]
  },
  {
   "cell_type": "markdown",
   "metadata": {},
   "source": [
    "### Expected results"
   ]
  },
  {
   "cell_type": "code",
   "execution_count": 57,
   "metadata": {},
   "outputs": [
    {
     "name": "stderr",
     "output_type": "stream",
     "text": [
      "/var/folders/h4/lp363j8s0xd_71n6qf896t0r0000gn/T/ipykernel_1125/4248363659.py:7: RuntimeWarning: overflow encountered in exp\n",
      "  expected_datasets[\"example\"] = np.exp(np.array(datasets[\"example\"].iloc[:, 0]) * B) * A\n"
     ]
    }
   ],
   "source": [
    "expected_datasets = dict()\n",
    "\n",
    "# ! this doesn't work\n",
    "A, B, eA, eB = Statistics.expfit(\n",
    "    datasets[\"example\"].iloc[:, 0], datasets[\"example\"].iloc[:, 1]\n",
    ")\n",
    "expected_datasets[\"example\"] = np.exp(np.array(datasets[\"example\"].iloc[:, 0]) * B) * A"
   ]
  },
  {
   "cell_type": "markdown",
   "metadata": {},
   "source": [
    "### linear regression"
   ]
  },
  {
   "cell_type": "code",
   "execution_count": 58,
   "metadata": {},
   "outputs": [],
   "source": [
    "Utils.iterate_func_through_keys(data_keys, Statistics.linfit)"
   ]
  },
  {
   "cell_type": "markdown",
   "metadata": {},
   "source": [
    "### Compatibility test\n",
    "\n",
    "Test per vedere se i coefficienti sono compatibili con lo zero"
   ]
  },
  {
   "cell_type": "markdown",
   "metadata": {},
   "source": [
    "### $\\chi^2$"
   ]
  },
  {
   "cell_type": "code",
   "execution_count": null,
   "metadata": {},
   "outputs": [],
   "source": [
    "Utils.iterate_func_through_keys(data_keys, Statistics.chi2)"
   ]
  },
  {
   "cell_type": "markdown",
   "metadata": {},
   "source": [
    "### T-Student"
   ]
  },
  {
   "cell_type": "code",
   "execution_count": null,
   "metadata": {},
   "outputs": [],
   "source": [
    "Utils.iterate_func_through_keys(data_keys, Statistics.t_student)"
   ]
  },
  {
   "cell_type": "markdown",
   "metadata": {},
   "source": [
    "## Save data\n",
    "\n",
    "Per avere i dati pronti per essere caricati sulla relazione."
   ]
  },
  {
   "cell_type": "markdown",
   "metadata": {},
   "source": [
    "### save graphs"
   ]
  },
  {
   "cell_type": "code",
   "execution_count": 59,
   "metadata": {},
   "outputs": [],
   "source": [
    "def plot_data(dataset_name: str) -> None:\n",
    "    plt.figure(figsize=(16, 9), layout=\"constrained\")\n",
    "    plt.title(\"TITLE\")\n",
    "    plt.xlabel(\"XLABEL\")\n",
    "    plt.ylabel(\"YLABEL\")\n",
    "\n",
    "    plt.plot(\n",
    "        expected_datasets[dataset_name].x,\n",
    "        expected_datasets[dataset_name].y,\n",
    "        c=\"r\",\n",
    "        ls=\":\",\n",
    "    )\n",
    "    plt.errorbar(\n",
    "        datasets[dataset_name].real.x,\n",
    "        datasets[dataset_name].real.x,\n",
    "        xerr=datasets[dataset_name].real.err_x,\n",
    "        yerr=datasets[dataset_name].real.err_y,\n",
    "        ls=\"\",\n",
    "        c=\"k\",\n",
    "        marker=\"x\",\n",
    "    )\n",
    "\n",
    "    plt.legend([\"Regressione lineare\", \"Misure effettuate\"])\n",
    "\n",
    "    plt.minorticks_on()\n",
    "    plt.grid(which=\"major\", ls=\"-\", lw=0.7)\n",
    "    plt.grid(which=\"minor\", ls=\"--\", lw=0.5)\n",
    "\n",
    "    plt.savefig(\n",
    "        fname=f\"images/{dataset_name}\",\n",
    "        transparent=True,\n",
    "        dpi=200,\n",
    "        format=\"svg\",\n",
    "        metadata={\n",
    "            \"Author\": \"Mattia Ballico\",\n",
    "            \"Contributor\": [\"Matilde Cappelli\", \"Filippo Cozzi\"],\n",
    "            \"Software\": \"matplotlib\",\n",
    "            \"Description\": \"LONG DESCRIPTION\",\n",
    "        },\n",
    "    )\n",
    "    pass\n",
    "\n",
    "\n",
    "# Utils.iterate_func_through_keys(data_keys, plot_data)"
   ]
  },
  {
   "cell_type": "markdown",
   "metadata": {},
   "source": [
    "### save data in latex documents"
   ]
  },
  {
   "cell_type": "code",
   "execution_count": 60,
   "metadata": {},
   "outputs": [],
   "source": [
    "# clear previous data\n",
    "with open(\"exports/results.tex\", \"w\"):\n",
    "    pass"
   ]
  },
  {
   "cell_type": "code",
   "execution_count": 61,
   "metadata": {},
   "outputs": [],
   "source": [
    "# random dataframe (as an example)\n",
    "df = pd.DataFrame(np.random.random((5, 5)))\n",
    "\n",
    "# save data in .tex file/files\n",
    "with open(\"exports/results.tex\", \"a\") as file:\n",
    "    file.write(\n",
    "        df.to_latex(\n",
    "            index=False,\n",
    "            # column = [\"col1\", \"col2\"]\n",
    "            float_format=\"{:0.2f}\".format,\n",
    "            caption=\"caption\",\n",
    "            label=\"label\",\n",
    "        ),\n",
    "    )\n",
    "\n",
    "    file.close()\n",
    "\n",
    "del file"
   ]
  }
 ],
 "metadata": {
  "kernelspec": {
   "display_name": "environment",
   "language": "python",
   "name": "python3"
  },
  "language_info": {
   "codemirror_mode": {
    "name": "ipython",
    "version": 3
   },
   "file_extension": ".py",
   "mimetype": "text/x-python",
   "name": "python",
   "nbconvert_exporter": "python",
   "pygments_lexer": "ipython3",
   "version": "3.12.2"
  }
 },
 "nbformat": 4,
 "nbformat_minor": 2
}
