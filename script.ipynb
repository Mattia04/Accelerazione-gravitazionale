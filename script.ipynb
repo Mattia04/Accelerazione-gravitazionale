{
 "cells": [
  {
   "cell_type": "markdown",
   "metadata": {},
   "source": [
    "# Calculating $g$\n",
    "\n",
    "This notebook was made to calculate the local gravitational acceleration $g [\\text{m/s}^2]$.\n",
    "\n",
    "The data used is stored in `/data`.\n",
    "\n",
    "The results are stored in `/images` and `/exports`.\n",
    "\n",
    "Part of the funcions used are stored in `/packages`.\n",
    "\n",
    "## Modello Fisico\n",
    "\n",
    "Vogliamo calcolare $g$ tramite un pendolo semplice (reale).\n",
    "\n",
    "Eq. differenziale del moto armonico:\n",
    "$$\\\"\\theta + \\frac{g}{L} \\theta = 0$$\n",
    "Da cui troviamo:\n",
    "$$T = 2 \\pi \\sqrt{\\frac{L}{g}}$$\n",
    "Da tutto ciò ricaviamo:\n",
    "$$g = 4 \\pi^2 \\frac{L}{T^2}$$\n",
    "Deviazione standard su $g$:\n",
    "$$\\sigma_g = 4\\pi^2\\sqrt{\\left(\\frac{1}{T^2}\\right)^2_{\\langle T\\rangle}\\sigma_L^2 + \\left(\\frac{2L}{T^3}\\right)^2_{\\langle T\\rangle, \\langle L\\rangle}\\sigma_T^2}$$\n",
    "Tuttavia non siamo in un caso ideale, quindi dobbiamo considerare una correzione:\n",
    "$$T = 2 \\pi \\sqrt{\\frac{L}{g}} \\pm \\Delta_T$$\n",
    "Correzione dell'ampiezza:\n",
    "$$T = 2 \\pi \\sqrt{\\frac{L}{g}} \\left( 1 + \\frac{\\vartheta^2_\\text{max}}{16} \\right)$$\n",
    "Differenza dal periodo ideale:\n",
    "$$D_T= 2 \\pi \\sqrt{\\frac{L}{g}} \\left(\\frac{\\vartheta^2_\\text{max}}{16} \\right)$$\n",
    "Incertezza relativa su $g$:\n",
    "$$\\frac{\\sigma_g}{g} = \\sqrt{\\left(\\frac{\\sigma_L}{L}\\right)^2 + \\left(2\\frac{\\sigma_T}{T}\\right)^2}$$\n",
    "\n",
    "Correzione di $T$ a causa dell'attrito viscoso:\n",
    "$$T^2 \\approx T^2_0\\left(1 + \\frac{\\gamma^2}{4\\pi^2} \\right)$$\n",
    "??? Ricavare $\\gamma$ tramite il modello esponenziale:\n",
    "$$f(x) = a e^{bx} + c e^{dx}$$\n",
    "\n",
    "Correzione di $T$ a causa del momento d'inerzia:\n",
    "$$T = 2\\pi \\sqrt{\\frac{I}{mgL}} = 2\\pi \\sqrt{\\frac{mL^2 + I_{CM}}{mgL}} = T = 2 \\pi \\sqrt{\\frac{L}{g}} \\pm \\Delta_T$$\n",
    "Possiamo trovare che il momento d'inerzia non è sempre trascurabile (filo non considerato):\n",
    "$$\\frac{\\ell_{eq}}{L} = \\frac{\\frac{I}{mL}}{L} \\approx 1.001$$\n",
    "\n",
    "Da cui troviamo che:\n",
    "$$g = g_\\text{modello armonico} \\pm \\sigma_g + Dg_{\\vartheta_{max}} + Dg_\\text{attrito} + Dg_\\text{momento inerzia}$$"
   ]
  },
  {
   "cell_type": "markdown",
   "metadata": {},
   "source": []
  },
  {
   "cell_type": "markdown",
   "metadata": {},
   "source": [
    "## importing libraries"
   ]
  },
  {
   "cell_type": "code",
   "execution_count": 18,
   "metadata": {},
   "outputs": [],
   "source": [
    "import matplotlib.pyplot as plt\n",
    "import numpy as np\n",
    "import pandas as pd\n",
    "\n",
    "from packages import expfit"
   ]
  },
  {
   "cell_type": "markdown",
   "metadata": {},
   "source": [
    "## Load data"
   ]
  },
  {
   "cell_type": "code",
   "execution_count": null,
   "metadata": {},
   "outputs": [],
   "source": []
  },
  {
   "cell_type": "markdown",
   "metadata": {},
   "source": [
    "### Delete first oscillations\n",
    "\n",
    "Le oscillazioni iniziali sono affette da vibrazioni, bisogna quindi rimuoverle"
   ]
  },
  {
   "cell_type": "code",
   "execution_count": null,
   "metadata": {},
   "outputs": [],
   "source": [
    "def calculate_min_std_dev():\n",
    "    \"\"\"calculate the minimal standard deviation of the dataset (pag. 37 pdf)\"\"\"\n",
    "    pass"
   ]
  },
  {
   "cell_type": "markdown",
   "metadata": {},
   "source": [
    "## Nominal errors\n",
    "\n",
    "In I.S. units"
   ]
  },
  {
   "cell_type": "code",
   "execution_count": null,
   "metadata": {},
   "outputs": [],
   "source": [
    "errori_nominali = {\n",
    "    \"metro\": 0.001,  # 1mm\n",
    "    \"calibro\": 0.00005,  # 0.05mm\n",
    "    \"bilancia\": 0.00001,  # 0.01g\n",
    "    \"cronometro\": 0.01,  # s\n",
    "    \"foto_traguardo\": 0.0001 * np.sqrt(2),  # s\n",
    "}"
   ]
  },
  {
   "cell_type": "markdown",
   "metadata": {},
   "source": [
    "## Compatibility test\n",
    "\n",
    "Test per vedere se i coefficienti sono compatibili con lo zero"
   ]
  },
  {
   "cell_type": "markdown",
   "metadata": {},
   "source": [
    "## Save data in latex file"
   ]
  },
  {
   "cell_type": "code",
   "execution_count": 21,
   "metadata": {},
   "outputs": [],
   "source": [
    "# random dataframe (as an example)\n",
    "df = pd.DataFrame(np.random.random((5, 5)))\n",
    "\n",
    "# save data in .tex file/files\n",
    "with open(\"exports/results.tex\", \"w\") as file:\n",
    "    file.write(\n",
    "        df.to_latex(\n",
    "            index=False,\n",
    "            # column = [\"col1\", \"col2\"]\n",
    "            float_format=\"{:0.2f}\".format,\n",
    "            caption=\"caption\",\n",
    "            label=\"label\",\n",
    "        ),\n",
    "    )"
   ]
  }
 ],
 "metadata": {
  "kernelspec": {
   "display_name": "environment",
   "language": "python",
   "name": "python3"
  },
  "language_info": {
   "codemirror_mode": {
    "name": "ipython",
    "version": 3
   },
   "file_extension": ".py",
   "mimetype": "text/x-python",
   "name": "python",
   "nbconvert_exporter": "python",
   "pygments_lexer": "ipython3",
   "version": "3.12.2"
  }
 },
 "nbformat": 4,
 "nbformat_minor": 2
}
