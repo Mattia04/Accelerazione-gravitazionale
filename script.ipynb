{
 "cells": [
  {
   "cell_type": "markdown",
   "metadata": {},
   "source": [
    "# Calculating $g$\n",
    "\n",
    "This notebook was made to calculate the local gravitational acceleration $g [\\text{m/s}^2]$.\n",
    "\n",
    "The data used is stored in `/data`.\n",
    "\n",
    "The results are stored in `/images` and `/exports`.\n",
    "\n",
    "Part of the funcions used are stored in `/packages`."
   ]
  },
  {
   "cell_type": "markdown",
   "metadata": {},
   "source": [
    "## importing libraries"
   ]
  },
  {
   "cell_type": "code",
   "execution_count": 18,
   "metadata": {},
   "outputs": [],
   "source": [
    "import matplotlib.pyplot as plt\n",
    "import numpy as np\n",
    "import pandas as pd\n",
    "\n",
    "from packages import linfit"
   ]
  },
  {
   "cell_type": "markdown",
   "metadata": {},
   "source": [
    "## Save data in latex file"
   ]
  },
  {
   "cell_type": "code",
   "execution_count": 20,
   "metadata": {},
   "outputs": [],
   "source": [
    "# random dataframe (as an example)\n",
    "df = pd.DataFrame(np.random.random((5, 5)))\n",
    "\n",
    "# save data in .tex file/files\n",
    "with open(\"exports/results.tex\", \"w\") as file:\n",
    "    file.write(\n",
    "        df.to_latex(\n",
    "            index=False,\n",
    "            float_format=\"{:0.2f}\".format,\n",
    "            caption=\"caption\",\n",
    "            label=\"label\",\n",
    "        ),\n",
    "    )"
   ]
  }
 ],
 "metadata": {
  "kernelspec": {
   "display_name": "environment",
   "language": "python",
   "name": "python3"
  },
  "language_info": {
   "codemirror_mode": {
    "name": "ipython",
    "version": 3
   },
   "file_extension": ".py",
   "mimetype": "text/x-python",
   "name": "python",
   "nbconvert_exporter": "python",
   "pygments_lexer": "ipython3",
   "version": "3.12.2"
  }
 },
 "nbformat": 4,
 "nbformat_minor": 2
}
